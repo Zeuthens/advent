{
 "cells": [
  {
   "cell_type": "code",
   "execution_count": 67,
   "id": "671906a5-8611-4224-bcf8-35d40c9c3c7f",
   "metadata": {},
   "outputs": [],
   "source": [
    "#Test"
   ]
  },
  {
   "cell_type": "code",
   "execution_count": 68,
   "id": "2bf0cc64-bb59-42f3-accf-6a9fa01d2d62",
   "metadata": {},
   "outputs": [],
   "source": [
    "#Test"
   ]
  },
  {
   "cell_type": "code",
   "execution_count": 3,
   "id": "03d33c8e-9583-4358-a981-ee886031ea08",
   "metadata": {},
   "outputs": [
    {
     "data": {
      "text/plain": [
       "'/home/ulrz'"
      ]
     },
     "execution_count": 3,
     "metadata": {},
     "output_type": "execute_result"
    }
   ],
   "source": [
    "pwd"
   ]
  },
  {
   "cell_type": "code",
   "execution_count": 4,
   "id": "5401d03d-9bb7-4c7f-a04d-2c3d7b124a0a",
   "metadata": {},
   "outputs": [
    {
     "name": "stdout",
     "output_type": "stream",
     "text": [
      "/home/ulrz/advent\n"
     ]
    }
   ],
   "source": [
    "cd advent"
   ]
  },
  {
   "cell_type": "code",
   "execution_count": 5,
   "id": "73a97e36-9b2f-4003-a50c-03bd0f17ca80",
   "metadata": {},
   "outputs": [
    {
     "data": {
      "text/plain": [
       "<function dir>"
      ]
     },
     "execution_count": 5,
     "metadata": {},
     "output_type": "execute_result"
    }
   ],
   "source": [
    "dir"
   ]
  },
  {
   "cell_type": "code",
   "execution_count": 6,
   "id": "a9a00825-45d3-4925-b4b6-2cdf96a8d0f2",
   "metadata": {},
   "outputs": [
    {
     "data": {
      "text/plain": [
       "'/home/ulrz/advent'"
      ]
     },
     "execution_count": 6,
     "metadata": {},
     "output_type": "execute_result"
    }
   ],
   "source": [
    "pwd"
   ]
  },
  {
   "cell_type": "code",
   "execution_count": 7,
   "id": "1ca5e9d3-f8ab-489f-a7dc-7c8f9d70f8b2",
   "metadata": {},
   "outputs": [
    {
     "name": "stdout",
     "output_type": "stream",
     "text": [
      "README.md  day1input.txt\n"
     ]
    }
   ],
   "source": [
    "ls"
   ]
  },
  {
   "cell_type": "code",
   "execution_count": 69,
   "id": "8106787d-f6ce-4e8b-9c69-56ad03ef3d45",
   "metadata": {},
   "outputs": [],
   "source": [
    "# cat day1input.txt"
   ]
  },
  {
   "cell_type": "code",
   "execution_count": 71,
   "id": "be914433-b28d-45aa-91a1-0978cd59ace0",
   "metadata": {},
   "outputs": [],
   "source": [
    "#Test"
   ]
  },
  {
   "cell_type": "code",
   "execution_count": 72,
   "id": "0025d4f4-d14d-44b5-89b9-d9f766197a6a",
   "metadata": {},
   "outputs": [],
   "source": [
    "#Test"
   ]
  },
  {
   "cell_type": "code",
   "execution_count": 73,
   "id": "afd42a76-a580-485b-b81f-681fbdc157d6",
   "metadata": {},
   "outputs": [],
   "source": [
    "#Test"
   ]
  },
  {
   "cell_type": "code",
   "execution_count": 12,
   "id": "acb0601e-7ad2-4694-9535-a99a8381389d",
   "metadata": {},
   "outputs": [
    {
     "name": "stdout",
     "output_type": "stream",
     "text": [
      "Defaulting to user installation because normal site-packages is not writeable\n",
      "Collecting pandas\n",
      "  Downloading pandas-1.3.5-cp37-cp37m-manylinux_2_17_x86_64.manylinux2014_x86_64.whl (11.3 MB)\n",
      "     |████████████████████████████████| 11.3 MB 18.1 MB/s            \n",
      "\u001b[?25hCollecting numpy>=1.17.3\n",
      "  Downloading numpy-1.21.5-cp37-cp37m-manylinux_2_12_x86_64.manylinux2010_x86_64.whl (15.7 MB)\n",
      "     |████████████████████████████████| 15.7 MB 52.2 MB/s            \n",
      "\u001b[?25hRequirement already satisfied: pytz>=2017.3 in /usr/local/lib/python3.7/site-packages (from pandas) (2021.3)\n",
      "Requirement already satisfied: python-dateutil>=2.7.3 in /usr/local/lib/python3.7/site-packages (from pandas) (2.8.2)\n",
      "Requirement already satisfied: six>=1.5 in /usr/local/lib/python3.7/site-packages (from python-dateutil>=2.7.3->pandas) (1.16.0)\n",
      "Installing collected packages: numpy, pandas\n",
      "\u001b[33m  WARNING: The scripts f2py, f2py3 and f2py3.7 are installed in '/home/ulrz/.local/bin' which is not on PATH.\n",
      "  Consider adding this directory to PATH or, if you prefer to suppress this warning, use --no-warn-script-location.\u001b[0m\n",
      "Successfully installed numpy-1.21.5 pandas-1.3.5\n",
      "Note: you may need to restart the kernel to use updated packages.\n"
     ]
    }
   ],
   "source": [
    "pip install pandas"
   ]
  },
  {
   "cell_type": "code",
   "execution_count": 13,
   "id": "e661568e-0806-42ee-b3b8-d06e377ed8b2",
   "metadata": {},
   "outputs": [],
   "source": [
    "import pandas as pd"
   ]
  },
  {
   "cell_type": "code",
   "execution_count": 14,
   "id": "631f4844-0b76-4834-bc71-f40c4540a761",
   "metadata": {},
   "outputs": [
    {
     "name": "stdout",
     "output_type": "stream",
     "text": [
      "Defaulting to user installation because normal site-packages is not writeable\n",
      "Collecting wheel\n",
      "  Using cached wheel-0.37.1-py2.py3-none-any.whl (35 kB)\n",
      "Installing collected packages: wheel\n",
      "\u001b[33m  WARNING: The script wheel is installed in '/home/ulrz/.local/bin' which is not on PATH.\n",
      "  Consider adding this directory to PATH or, if you prefer to suppress this warning, use --no-warn-script-location.\u001b[0m\n",
      "Successfully installed wheel-0.37.1\n",
      "Note: you may need to restart the kernel to use updated packages.\n"
     ]
    }
   ],
   "source": [
    "pip install wheel"
   ]
  },
  {
   "cell_type": "code",
   "execution_count": 74,
   "id": "a45ae81c-5ea3-4d3c-a215-88234455135b",
   "metadata": {},
   "outputs": [],
   "source": [
    "#Test"
   ]
  },
  {
   "cell_type": "code",
   "execution_count": 2,
   "id": "5ef5a84e-eb18-46ad-b64c-452579f2dcc2",
   "metadata": {},
   "outputs": [
    {
     "name": "stdout",
     "output_type": "stream",
     "text": [
      "Adventcode.ipynb  Untitled.ipynb   \u001b[0m\u001b[01;34madvent\u001b[0m/             \u001b[01;32mpyproject.toml\u001b[0m*\n",
      "\u001b[01;34mNNEAP\u001b[0m/            Untitled1.ipynb  \u001b[01;32mmount_datasets.py\u001b[0m*\n",
      "\u001b[01;34mNNEDL\u001b[0m/            Untitled2.ipynb  poetry.lock\n"
     ]
    }
   ],
   "source": [
    "ls"
   ]
  },
  {
   "cell_type": "code",
   "execution_count": 3,
   "id": "6bade623-9937-460b-950d-35cfc95c12b0",
   "metadata": {},
   "outputs": [
    {
     "name": "stdout",
     "output_type": "stream",
     "text": [
      "/home/ulrz/advent\n"
     ]
    }
   ],
   "source": [
    "cd advent"
   ]
  },
  {
   "cell_type": "code",
   "execution_count": 4,
   "id": "7ecd7a41-5e5f-453b-8016-7af4c6e2fb1e",
   "metadata": {},
   "outputs": [
    {
     "name": "stdout",
     "output_type": "stream",
     "text": [
      "README.md  day1input.txt\n"
     ]
    }
   ],
   "source": [
    "ls"
   ]
  },
  {
   "cell_type": "code",
   "execution_count": 5,
   "id": "39c2ca9f-91e1-4be6-9627-08143d6b8046",
   "metadata": {},
   "outputs": [],
   "source": [
    "input = pd.read_csv('day1input.txt', header = None)"
   ]
  },
  {
   "cell_type": "code",
   "execution_count": 6,
   "id": "66601598-d64f-4bba-b886-9193f6d7edad",
   "metadata": {},
   "outputs": [
    {
     "name": "stdout",
     "output_type": "stream",
     "text": [
      "README.md  day1input.txt\n"
     ]
    }
   ],
   "source": [
    "ls"
   ]
  },
  {
   "cell_type": "code",
   "execution_count": 7,
   "id": "c7d1489d-6bde-46f9-9982-557cf29dc634",
   "metadata": {},
   "outputs": [
    {
     "data": {
      "text/html": [
       "<div>\n",
       "<style scoped>\n",
       "    .dataframe tbody tr th:only-of-type {\n",
       "        vertical-align: middle;\n",
       "    }\n",
       "\n",
       "    .dataframe tbody tr th {\n",
       "        vertical-align: top;\n",
       "    }\n",
       "\n",
       "    .dataframe thead th {\n",
       "        text-align: right;\n",
       "    }\n",
       "</style>\n",
       "<table border=\"1\" class=\"dataframe\">\n",
       "  <thead>\n",
       "    <tr style=\"text-align: right;\">\n",
       "      <th></th>\n",
       "      <th>0</th>\n",
       "    </tr>\n",
       "  </thead>\n",
       "  <tbody>\n",
       "    <tr>\n",
       "      <th>0</th>\n",
       "      <td>159</td>\n",
       "    </tr>\n",
       "    <tr>\n",
       "      <th>1</th>\n",
       "      <td>158</td>\n",
       "    </tr>\n",
       "    <tr>\n",
       "      <th>2</th>\n",
       "      <td>174</td>\n",
       "    </tr>\n",
       "    <tr>\n",
       "      <th>3</th>\n",
       "      <td>196</td>\n",
       "    </tr>\n",
       "    <tr>\n",
       "      <th>4</th>\n",
       "      <td>197</td>\n",
       "    </tr>\n",
       "    <tr>\n",
       "      <th>...</th>\n",
       "      <td>...</td>\n",
       "    </tr>\n",
       "    <tr>\n",
       "      <th>1995</th>\n",
       "      <td>8538</td>\n",
       "    </tr>\n",
       "    <tr>\n",
       "      <th>1996</th>\n",
       "      <td>8543</td>\n",
       "    </tr>\n",
       "    <tr>\n",
       "      <th>1997</th>\n",
       "      <td>8545</td>\n",
       "    </tr>\n",
       "    <tr>\n",
       "      <th>1998</th>\n",
       "      <td>8557</td>\n",
       "    </tr>\n",
       "    <tr>\n",
       "      <th>1999</th>\n",
       "      <td>8568</td>\n",
       "    </tr>\n",
       "  </tbody>\n",
       "</table>\n",
       "<p>2000 rows × 1 columns</p>\n",
       "</div>"
      ],
      "text/plain": [
       "         0\n",
       "0      159\n",
       "1      158\n",
       "2      174\n",
       "3      196\n",
       "4      197\n",
       "...    ...\n",
       "1995  8538\n",
       "1996  8543\n",
       "1997  8545\n",
       "1998  8557\n",
       "1999  8568\n",
       "\n",
       "[2000 rows x 1 columns]"
      ]
     },
     "execution_count": 7,
     "metadata": {},
     "output_type": "execute_result"
    }
   ],
   "source": [
    "input"
   ]
  },
  {
   "cell_type": "code",
   "execution_count": 75,
   "id": "c12fd99b-9577-4fdf-8285-63048da4e542",
   "metadata": {},
   "outputs": [],
   "source": [
    "#Test"
   ]
  },
  {
   "cell_type": "code",
   "execution_count": 9,
   "id": "c143278c-c58e-4fd7-a09d-b9e6510238e2",
   "metadata": {},
   "outputs": [
    {
     "name": "stdout",
     "output_type": "stream",
     "text": [
      "         0\n",
      "0      159\n",
      "1      158\n",
      "2      174\n",
      "3      196\n",
      "4      197\n",
      "...    ...\n",
      "1995  8538\n",
      "1996  8543\n",
      "1997  8545\n",
      "1998  8557\n",
      "1999  8568\n",
      "\n",
      "[2000 rows x 1 columns]\n"
     ]
    }
   ],
   "source": [
    "print (input)"
   ]
  },
  {
   "cell_type": "code",
   "execution_count": 76,
   "id": "ebc0916b-6b10-4ec4-b59a-e3fa6258d16a",
   "metadata": {},
   "outputs": [],
   "source": [
    "#Test"
   ]
  },
  {
   "cell_type": "code",
   "execution_count": 11,
   "id": "bf888a34-54a0-40e0-ac2a-a7121374e90b",
   "metadata": {},
   "outputs": [],
   "source": [
    "del input"
   ]
  },
  {
   "cell_type": "code",
   "execution_count": 77,
   "id": "a0abb70a-dfb6-4153-8c7f-f8454cc84711",
   "metadata": {},
   "outputs": [],
   "source": [
    "#Test"
   ]
  },
  {
   "cell_type": "code",
   "execution_count": 78,
   "id": "7015b521-d2b8-4de0-b8ef-01aa10578018",
   "metadata": {},
   "outputs": [],
   "source": [
    "#Test"
   ]
  },
  {
   "cell_type": "code",
   "execution_count": 79,
   "id": "ff6056fd-2d42-4015-8311-a5f0e667ee66",
   "metadata": {},
   "outputs": [],
   "source": [
    "#Test"
   ]
  },
  {
   "cell_type": "code",
   "execution_count": 80,
   "id": "8d76c622-0cb3-4363-b57b-e59f440f1cc8",
   "metadata": {},
   "outputs": [],
   "source": [
    "#Test"
   ]
  },
  {
   "cell_type": "code",
   "execution_count": 16,
   "id": "d43641f3-58fe-4870-ad07-129816e36b44",
   "metadata": {},
   "outputs": [],
   "source": [
    "input = pd.read_csv('day1input.txt', names = ['Nr', 'Dybde'])"
   ]
  },
  {
   "cell_type": "code",
   "execution_count": 17,
   "id": "93ff6012-49fa-44bf-8e54-f050fb963395",
   "metadata": {},
   "outputs": [
    {
     "name": "stdout",
     "output_type": "stream",
     "text": [
      "ls: cannot access input: No such file or directory\n"
     ]
    }
   ],
   "source": [
    "ls input"
   ]
  },
  {
   "cell_type": "code",
   "execution_count": 18,
   "id": "9e4b75cb-671f-43c5-8cfe-e3a1a3444d02",
   "metadata": {},
   "outputs": [
    {
     "name": "stdout",
     "output_type": "stream",
     "text": [
      "cat: input: No such file or directory\n"
     ]
    }
   ],
   "source": [
    "cat input"
   ]
  },
  {
   "cell_type": "code",
   "execution_count": 19,
   "id": "59ea9b5d-4287-4506-9153-7173f4e83bdb",
   "metadata": {},
   "outputs": [
    {
     "name": "stdout",
     "output_type": "stream",
     "text": [
      "README.md  day1input.txt\n"
     ]
    }
   ],
   "source": [
    "ls"
   ]
  },
  {
   "cell_type": "code",
   "execution_count": 20,
   "id": "8f49db93-5e65-47d8-b2c2-7821ce38df7a",
   "metadata": {},
   "outputs": [
    {
     "name": "stdout",
     "output_type": "stream",
     "text": [
      "        Nr  Dybde\n",
      "0      159    NaN\n",
      "1      158    NaN\n",
      "2      174    NaN\n",
      "3      196    NaN\n",
      "4      197    NaN\n",
      "...    ...    ...\n",
      "1995  8538    NaN\n",
      "1996  8543    NaN\n",
      "1997  8545    NaN\n",
      "1998  8557    NaN\n",
      "1999  8568    NaN\n",
      "\n",
      "[2000 rows x 2 columns]\n"
     ]
    }
   ],
   "source": [
    "print(input)"
   ]
  },
  {
   "cell_type": "code",
   "execution_count": 21,
   "id": "ab247696-d44a-47c4-9c4a-414b271f0284",
   "metadata": {},
   "outputs": [],
   "source": [
    "del input"
   ]
  },
  {
   "cell_type": "code",
   "execution_count": 22,
   "id": "c136841d-c84e-4102-a7a8-a1dc36f7f9ec",
   "metadata": {},
   "outputs": [],
   "source": [
    "input = pd.read_csv('day1input.txt', names = ['Dybde'])"
   ]
  },
  {
   "cell_type": "code",
   "execution_count": 23,
   "id": "cbd58d5f-4f95-48f4-9108-cc4d404f52fc",
   "metadata": {},
   "outputs": [
    {
     "name": "stdout",
     "output_type": "stream",
     "text": [
      "      Dybde\n",
      "0       159\n",
      "1       158\n",
      "2       174\n",
      "3       196\n",
      "4       197\n",
      "...     ...\n",
      "1995   8538\n",
      "1996   8543\n",
      "1997   8545\n",
      "1998   8557\n",
      "1999   8568\n",
      "\n",
      "[2000 rows x 1 columns]\n"
     ]
    }
   ],
   "source": [
    "print(input)"
   ]
  },
  {
   "cell_type": "code",
   "execution_count": 24,
   "id": "4f5c662e-8591-45c1-bf5d-5e2247d2a4e2",
   "metadata": {},
   "outputs": [],
   "source": [
    "input['diff'] = input['Dybde'] - input['Dybde'].shift(1)"
   ]
  },
  {
   "cell_type": "code",
   "execution_count": 25,
   "id": "80ebca3c-5831-4b45-b848-ce060c080fc9",
   "metadata": {},
   "outputs": [
    {
     "name": "stdout",
     "output_type": "stream",
     "text": [
      "      Dybde  diff\n",
      "0       159   NaN\n",
      "1       158  -1.0\n",
      "2       174  16.0\n",
      "3       196  22.0\n",
      "4       197   1.0\n",
      "...     ...   ...\n",
      "1995   8538   3.0\n",
      "1996   8543   5.0\n",
      "1997   8545   2.0\n",
      "1998   8557  12.0\n",
      "1999   8568  11.0\n",
      "\n",
      "[2000 rows x 2 columns]\n"
     ]
    }
   ],
   "source": [
    "print(input)"
   ]
  },
  {
   "cell_type": "code",
   "execution_count": 81,
   "id": "acde27d1-b84a-45e1-aeb0-5ec6088c4ea3",
   "metadata": {},
   "outputs": [],
   "source": [
    "#Test"
   ]
  },
  {
   "cell_type": "code",
   "execution_count": 82,
   "id": "dc2ae429-7d70-40a6-9f2f-1b1075ba44d2",
   "metadata": {},
   "outputs": [],
   "source": [
    "#Test"
   ]
  },
  {
   "cell_type": "code",
   "execution_count": 28,
   "id": "28118fc2-d8c4-4851-8e1f-eeefbbcaa2bd",
   "metadata": {},
   "outputs": [
    {
     "data": {
      "text/plain": [
       "2000"
      ]
     },
     "execution_count": 28,
     "metadata": {},
     "output_type": "execute_result"
    }
   ],
   "source": [
    "len(input)"
   ]
  },
  {
   "cell_type": "code",
   "execution_count": 83,
   "id": "d7d43e60-0870-489e-a6b9-684a884b38b7",
   "metadata": {},
   "outputs": [],
   "source": [
    "#Test"
   ]
  },
  {
   "cell_type": "code",
   "execution_count": 84,
   "id": "12b1b156-8872-450d-827c-fc5aa252831e",
   "metadata": {},
   "outputs": [],
   "source": [
    "#Test"
   ]
  },
  {
   "cell_type": "code",
   "execution_count": 85,
   "id": "a58c6e83-c57e-4d90-87e2-0d596a3b8447",
   "metadata": {},
   "outputs": [],
   "source": [
    "#Test"
   ]
  },
  {
   "cell_type": "code",
   "execution_count": 32,
   "id": "cd6f24f5-7c8d-46c5-bb14-1fe1d836ed0b",
   "metadata": {},
   "outputs": [
    {
     "data": {
      "text/plain": [
       "2000"
      ]
     },
     "execution_count": 32,
     "metadata": {},
     "output_type": "execute_result"
    }
   ],
   "source": [
    "len(input['diff'] > 0)"
   ]
  },
  {
   "cell_type": "code",
   "execution_count": 33,
   "id": "57892d40-972c-46a2-933a-2ce83c7f7e66",
   "metadata": {},
   "outputs": [
    {
     "name": "stdout",
     "output_type": "stream",
     "text": [
      "cat: input: No such file or directory\n"
     ]
    }
   ],
   "source": [
    "cat input"
   ]
  },
  {
   "cell_type": "code",
   "execution_count": 34,
   "id": "6d45fff0-25d8-4723-ba88-b12304fd5200",
   "metadata": {},
   "outputs": [
    {
     "name": "stdout",
     "output_type": "stream",
     "text": [
      "      Dybde  diff\n",
      "0       159   NaN\n",
      "1       158  -1.0\n",
      "2       174  16.0\n",
      "3       196  22.0\n",
      "4       197   1.0\n",
      "...     ...   ...\n",
      "1995   8538   3.0\n",
      "1996   8543   5.0\n",
      "1997   8545   2.0\n",
      "1998   8557  12.0\n",
      "1999   8568  11.0\n",
      "\n",
      "[2000 rows x 2 columns]\n"
     ]
    }
   ],
   "source": [
    "print(input)"
   ]
  },
  {
   "cell_type": "code",
   "execution_count": 86,
   "id": "a3c467a2-d42d-4a16-857a-63ed06e848f5",
   "metadata": {},
   "outputs": [],
   "source": [
    "#Test"
   ]
  },
  {
   "cell_type": "code",
   "execution_count": 36,
   "id": "e53f4f61-cc9a-4489-a164-df6e52424e40",
   "metadata": {},
   "outputs": [
    {
     "data": {
      "text/plain": [
       "1583"
      ]
     },
     "execution_count": 36,
     "metadata": {},
     "output_type": "execute_result"
    }
   ],
   "source": [
    "len(input.query('diff > 0'))"
   ]
  },
  {
   "cell_type": "code",
   "execution_count": 39,
   "id": "67f846ab-704f-461e-b987-9a9b11fde053",
   "metadata": {},
   "outputs": [
    {
     "data": {
      "text/html": [
       "<div>\n",
       "<style scoped>\n",
       "    .dataframe tbody tr th:only-of-type {\n",
       "        vertical-align: middle;\n",
       "    }\n",
       "\n",
       "    .dataframe tbody tr th {\n",
       "        vertical-align: top;\n",
       "    }\n",
       "\n",
       "    .dataframe thead th {\n",
       "        text-align: right;\n",
       "    }\n",
       "</style>\n",
       "<table border=\"1\" class=\"dataframe\">\n",
       "  <thead>\n",
       "    <tr style=\"text-align: right;\">\n",
       "      <th></th>\n",
       "      <th>Dybde</th>\n",
       "      <th>diff</th>\n",
       "    </tr>\n",
       "  </thead>\n",
       "  <tbody>\n",
       "    <tr>\n",
       "      <th>0</th>\n",
       "      <td>159</td>\n",
       "      <td>NaN</td>\n",
       "    </tr>\n",
       "    <tr>\n",
       "      <th>1</th>\n",
       "      <td>158</td>\n",
       "      <td>-1.0</td>\n",
       "    </tr>\n",
       "    <tr>\n",
       "      <th>2</th>\n",
       "      <td>174</td>\n",
       "      <td>16.0</td>\n",
       "    </tr>\n",
       "    <tr>\n",
       "      <th>3</th>\n",
       "      <td>196</td>\n",
       "      <td>22.0</td>\n",
       "    </tr>\n",
       "    <tr>\n",
       "      <th>4</th>\n",
       "      <td>197</td>\n",
       "      <td>1.0</td>\n",
       "    </tr>\n",
       "  </tbody>\n",
       "</table>\n",
       "</div>"
      ],
      "text/plain": [
       "   Dybde  diff\n",
       "0    159   NaN\n",
       "1    158  -1.0\n",
       "2    174  16.0\n",
       "3    196  22.0\n",
       "4    197   1.0"
      ]
     },
     "execution_count": 39,
     "metadata": {},
     "output_type": "execute_result"
    }
   ],
   "source": [
    "input.head()"
   ]
  },
  {
   "cell_type": "code",
   "execution_count": 40,
   "id": "95b5b2f1-c4b8-48b5-8904-38b60f79aef9",
   "metadata": {},
   "outputs": [
    {
     "data": {
      "text/plain": [
       "(0,\n",
       " Dybde    159.0\n",
       " diff       NaN\n",
       " Name: 0, dtype: float64)"
      ]
     },
     "execution_count": 40,
     "metadata": {},
     "output_type": "execute_result"
    }
   ],
   "source": []
  },
  {
   "cell_type": "code",
   "execution_count": 41,
   "id": "3f55ef94-18c5-422c-b38e-723c918b33a7",
   "metadata": {},
   "outputs": [
    {
     "data": {
      "text/plain": [
       "(0,\n",
       " Dybde    159.0\n",
       " diff       NaN\n",
       " Name: 0, dtype: float64)"
      ]
     },
     "execution_count": 41,
     "metadata": {},
     "output_type": "execute_result"
    }
   ],
   "source": [
    "next(input.iterrows())"
   ]
  },
  {
   "cell_type": "code",
   "execution_count": 42,
   "id": "b0111392-5aa8-405c-bfba-2bfae674e3e3",
   "metadata": {},
   "outputs": [
    {
     "data": {
      "text/plain": [
       "Dybde    159.0\n",
       "diff       NaN\n",
       "Name: 0, dtype: float64"
      ]
     },
     "execution_count": 42,
     "metadata": {},
     "output_type": "execute_result"
    }
   ],
   "source": [
    "next(input.iterrows())[1]"
   ]
  },
  {
   "cell_type": "code",
   "execution_count": 87,
   "id": "81f25924-3b91-429f-8362-500a1eba8e25",
   "metadata": {},
   "outputs": [],
   "source": [
    "#Test"
   ]
  },
  {
   "cell_type": "code",
   "execution_count": 44,
   "id": "80dfba28-1942-439e-8823-ec2816a67d79",
   "metadata": {},
   "outputs": [
    {
     "name": "stdout",
     "output_type": "stream",
     "text": [
      "0 Dybde    159.0\n",
      "diff       NaN\n",
      "Name: 0, dtype: float64\n"
     ]
    }
   ],
   "source": [
    "for index, row in input.head(n=1).iterrows():\n",
    "     print(index, row)"
   ]
  },
  {
   "cell_type": "code",
   "execution_count": 50,
   "id": "67ddb977-4e6e-435b-999b-955b6295047f",
   "metadata": {},
   "outputs": [
    {
     "name": "stdout",
     "output_type": "stream",
     "text": [
      "0 Dybde    159.0\n",
      "diff       NaN\n",
      "Name: 0, dtype: float64\n",
      "1 Dybde    158.0\n",
      "diff      -1.0\n",
      "Name: 1, dtype: float64\n",
      "2 Dybde    174.0\n",
      "diff      16.0\n",
      "Name: 2, dtype: float64\n",
      "3 Dybde    196.0\n",
      "diff      22.0\n",
      "Name: 3, dtype: float64\n",
      "4 Dybde    197.0\n",
      "diff       1.0\n",
      "Name: 4, dtype: float64\n",
      "5 Dybde    194.0\n",
      "diff      -3.0\n",
      "Name: 5, dtype: float64\n",
      "6 Dybde    209.0\n",
      "diff      15.0\n",
      "Name: 6, dtype: float64\n",
      "7 Dybde    213.0\n",
      "diff       4.0\n",
      "Name: 7, dtype: float64\n",
      "8 Dybde    214.0\n",
      "diff       1.0\n",
      "Name: 8, dtype: float64\n",
      "9 Dybde    222.0\n",
      "diff       8.0\n",
      "Name: 9, dtype: float64\n"
     ]
    }
   ],
   "source": [
    "for index, row in input.head(n=1998).iterrows():\n",
    "     print(index, row)"
   ]
  },
  {
   "cell_type": "code",
   "execution_count": 88,
   "id": "7de2021c-ccdb-45aa-aefb-1e6b9ada51d7",
   "metadata": {},
   "outputs": [],
   "source": [
    "#Test"
   ]
  },
  {
   "cell_type": "code",
   "execution_count": 89,
   "id": "ba655990-03fd-452b-9fe6-67f44b677265",
   "metadata": {},
   "outputs": [],
   "source": [
    "#Test"
   ]
  },
  {
   "cell_type": "code",
   "execution_count": 55,
   "id": "002d6f5c-8841-430e-8b25-060c3b21f83a",
   "metadata": {},
   "outputs": [],
   "source": [
    "list = []"
   ]
  },
  {
   "cell_type": "code",
   "execution_count": 90,
   "id": "656aa285-3e95-4dcf-9a7f-293774988c15",
   "metadata": {},
   "outputs": [],
   "source": [
    "#Test"
   ]
  },
  {
   "cell_type": "code",
   "execution_count": 91,
   "id": "96334415-e28c-4e16-b0b8-df1b9fb437ba",
   "metadata": {},
   "outputs": [],
   "source": [
    "#Test"
   ]
  },
  {
   "cell_type": "code",
   "execution_count": 93,
   "id": "9ad14b4c-61e4-4a53-aa6d-5dbd5d85ae8b",
   "metadata": {},
   "outputs": [
    {
     "name": "stdout",
     "output_type": "stream",
     "text": [
      "      Dybde  diff Rolling\n",
      "0       159   NaN        \n",
      "1       158  -1.0        \n",
      "2       174  16.0        \n",
      "3       196  22.0        \n",
      "4       197   1.0        \n",
      "...     ...   ...     ...\n",
      "1995   8538   3.0        \n",
      "1996   8543   5.0        \n",
      "1997   8545   2.0        \n",
      "1998   8557  12.0        \n",
      "1999   8568  11.0        \n",
      "\n",
      "[2000 rows x 3 columns]\n"
     ]
    }
   ],
   "source": [
    "print(input)"
   ]
  },
  {
   "cell_type": "code",
   "execution_count": 92,
   "id": "5be60a48-294b-47bd-8ffc-2f7e78c251a0",
   "metadata": {},
   "outputs": [],
   "source": [
    "#Test"
   ]
  },
  {
   "cell_type": "code",
   "execution_count": 93,
   "id": "a19b3e33-ae88-4927-b6df-5bc3a04d352b",
   "metadata": {},
   "outputs": [],
   "source": [
    "#Test"
   ]
  },
  {
   "cell_type": "code",
   "execution_count": 101,
   "id": "ae4b272a-042e-4ccf-b1a3-8bd6c6595899",
   "metadata": {},
   "outputs": [],
   "source": [
    "input.rolling = input.Dybde+1"
   ]
  },
  {
   "cell_type": "code",
   "execution_count": 102,
   "id": "51af21f5-aa91-4e16-8f39-bd7bf99bc126",
   "metadata": {},
   "outputs": [
    {
     "name": "stdout",
     "output_type": "stream",
     "text": [
      "0        160\n",
      "1        159\n",
      "2        175\n",
      "3        197\n",
      "4        198\n",
      "        ... \n",
      "1995    8539\n",
      "1996    8544\n",
      "1997    8546\n",
      "1998    8558\n",
      "1999    8569\n",
      "Name: Dybde, Length: 2000, dtype: int64\n"
     ]
    }
   ],
   "source": [
    "print (input.rolling)"
   ]
  },
  {
   "cell_type": "code",
   "execution_count": 112,
   "id": "6060afd8-3066-41e6-ab2e-ceead2d70cc4",
   "metadata": {},
   "outputs": [],
   "source": [
    "input[\"rolling\"] = input.Dybde.rolling(window=3).sum()"
   ]
  },
  {
   "cell_type": "code",
   "execution_count": 113,
   "id": "5af5b980-3d52-44cb-b549-8c3538f5bbf5",
   "metadata": {},
   "outputs": [
    {
     "data": {
      "text/html": [
       "<div>\n",
       "<style scoped>\n",
       "    .dataframe tbody tr th:only-of-type {\n",
       "        vertical-align: middle;\n",
       "    }\n",
       "\n",
       "    .dataframe tbody tr th {\n",
       "        vertical-align: top;\n",
       "    }\n",
       "\n",
       "    .dataframe thead th {\n",
       "        text-align: right;\n",
       "    }\n",
       "</style>\n",
       "<table border=\"1\" class=\"dataframe\">\n",
       "  <thead>\n",
       "    <tr style=\"text-align: right;\">\n",
       "      <th></th>\n",
       "      <th>Dybde</th>\n",
       "      <th>diff</th>\n",
       "      <th>Rolling</th>\n",
       "      <th>rolling</th>\n",
       "    </tr>\n",
       "  </thead>\n",
       "  <tbody>\n",
       "    <tr>\n",
       "      <th>0</th>\n",
       "      <td>159</td>\n",
       "      <td>NaN</td>\n",
       "      <td></td>\n",
       "      <td>NaN</td>\n",
       "    </tr>\n",
       "    <tr>\n",
       "      <th>1</th>\n",
       "      <td>158</td>\n",
       "      <td>-1.0</td>\n",
       "      <td></td>\n",
       "      <td>NaN</td>\n",
       "    </tr>\n",
       "    <tr>\n",
       "      <th>2</th>\n",
       "      <td>174</td>\n",
       "      <td>16.0</td>\n",
       "      <td></td>\n",
       "      <td>491.0</td>\n",
       "    </tr>\n",
       "    <tr>\n",
       "      <th>3</th>\n",
       "      <td>196</td>\n",
       "      <td>22.0</td>\n",
       "      <td></td>\n",
       "      <td>528.0</td>\n",
       "    </tr>\n",
       "    <tr>\n",
       "      <th>4</th>\n",
       "      <td>197</td>\n",
       "      <td>1.0</td>\n",
       "      <td></td>\n",
       "      <td>567.0</td>\n",
       "    </tr>\n",
       "    <tr>\n",
       "      <th>...</th>\n",
       "      <td>...</td>\n",
       "      <td>...</td>\n",
       "      <td>...</td>\n",
       "      <td>...</td>\n",
       "    </tr>\n",
       "    <tr>\n",
       "      <th>1995</th>\n",
       "      <td>8538</td>\n",
       "      <td>3.0</td>\n",
       "      <td></td>\n",
       "      <td>25591.0</td>\n",
       "    </tr>\n",
       "    <tr>\n",
       "      <th>1996</th>\n",
       "      <td>8543</td>\n",
       "      <td>5.0</td>\n",
       "      <td></td>\n",
       "      <td>25616.0</td>\n",
       "    </tr>\n",
       "    <tr>\n",
       "      <th>1997</th>\n",
       "      <td>8545</td>\n",
       "      <td>2.0</td>\n",
       "      <td></td>\n",
       "      <td>25626.0</td>\n",
       "    </tr>\n",
       "    <tr>\n",
       "      <th>1998</th>\n",
       "      <td>8557</td>\n",
       "      <td>12.0</td>\n",
       "      <td></td>\n",
       "      <td>25645.0</td>\n",
       "    </tr>\n",
       "    <tr>\n",
       "      <th>1999</th>\n",
       "      <td>8568</td>\n",
       "      <td>11.0</td>\n",
       "      <td></td>\n",
       "      <td>25670.0</td>\n",
       "    </tr>\n",
       "  </tbody>\n",
       "</table>\n",
       "<p>2000 rows × 4 columns</p>\n",
       "</div>"
      ],
      "text/plain": [
       "      Dybde  diff Rolling  rolling\n",
       "0       159   NaN              NaN\n",
       "1       158  -1.0              NaN\n",
       "2       174  16.0            491.0\n",
       "3       196  22.0            528.0\n",
       "4       197   1.0            567.0\n",
       "...     ...   ...     ...      ...\n",
       "1995   8538   3.0          25591.0\n",
       "1996   8543   5.0          25616.0\n",
       "1997   8545   2.0          25626.0\n",
       "1998   8557  12.0          25645.0\n",
       "1999   8568  11.0          25670.0\n",
       "\n",
       "[2000 rows x 4 columns]"
      ]
     },
     "execution_count": 113,
     "metadata": {},
     "output_type": "execute_result"
    }
   ],
   "source": [
    "input"
   ]
  },
  {
   "cell_type": "code",
   "execution_count": 114,
   "id": "d47a4bbb-5cec-47fb-823d-ccb415196b8f",
   "metadata": {},
   "outputs": [],
   "source": [
    "input[\"shifted_dybde\"] = input.Dybde.shift()"
   ]
  },
  {
   "cell_type": "code",
   "execution_count": 117,
   "id": "b748b5cb-e5df-44b6-9965-e0d50f84337a",
   "metadata": {},
   "outputs": [
    {
     "data": {
      "text/plain": [
       "0           NaN\n",
       "1         317.0\n",
       "2         332.0\n",
       "3         370.0\n",
       "4         393.0\n",
       "         ...   \n",
       "1995    17073.0\n",
       "1996    17081.0\n",
       "1997    17088.0\n",
       "1998    17102.0\n",
       "1999    17125.0\n",
       "Length: 2000, dtype: float64"
      ]
     },
     "execution_count": 117,
     "metadata": {},
     "output_type": "execute_result"
    }
   ],
   "source": [
    "input.Dybde + input.shifted_dybde"
   ]
  },
  {
   "cell_type": "code",
   "execution_count": 127,
   "id": "556ba807-073c-4cf4-9450-c78469b732cd",
   "metadata": {},
   "outputs": [
    {
     "name": "stdout",
     "output_type": "stream",
     "text": [
      "884\n"
     ]
    }
   ],
   "source": [
    "cumsum = 0\n",
    "for i, row in input.head().iterrows():\n",
    "   cumsum = cumsum + row.Dybde\n",
    "\n",
    "print(cumsum)"
   ]
  },
  {
   "cell_type": "code",
   "execution_count": null,
   "id": "ec78302f-824b-46f7-9c6d-94c3cd9763a8",
   "metadata": {},
   "outputs": [],
   "source": [
    "input[\"shifted\"] = pd.NA"
   ]
  },
  {
   "cell_type": "code",
   "execution_count": 170,
   "id": "07cc9762-bb3f-4ebc-8eb8-f0a07fae2e83",
   "metadata": {},
   "outputs": [],
   "source": [
    "for i, row in input.head(1999).iterrows():\n",
    "    if i>0:\n",
    "       input.loc[i, \"sum\"] = input.loc[i-1, \"Dybde\"] + input.loc[i, \"Dybde\"] + input.loc[i+1, \"Dybde\"]"
   ]
  },
  {
   "cell_type": "code",
   "execution_count": 171,
   "id": "20fb5993-3967-4e32-be9d-b5edca6a7b79",
   "metadata": {},
   "outputs": [
    {
     "data": {
      "text/html": [
       "<div>\n",
       "<style scoped>\n",
       "    .dataframe tbody tr th:only-of-type {\n",
       "        vertical-align: middle;\n",
       "    }\n",
       "\n",
       "    .dataframe tbody tr th {\n",
       "        vertical-align: top;\n",
       "    }\n",
       "\n",
       "    .dataframe thead th {\n",
       "        text-align: right;\n",
       "    }\n",
       "</style>\n",
       "<table border=\"1\" class=\"dataframe\">\n",
       "  <thead>\n",
       "    <tr style=\"text-align: right;\">\n",
       "      <th></th>\n",
       "      <th>Dybde</th>\n",
       "      <th>diff</th>\n",
       "      <th>Rolling</th>\n",
       "      <th>rolling</th>\n",
       "      <th>shifted_dybde</th>\n",
       "      <th>shifted</th>\n",
       "      <th>sumdiff</th>\n",
       "      <th>sum</th>\n",
       "    </tr>\n",
       "  </thead>\n",
       "  <tbody>\n",
       "    <tr>\n",
       "      <th>0</th>\n",
       "      <td>159</td>\n",
       "      <td>NaN</td>\n",
       "      <td></td>\n",
       "      <td>NaN</td>\n",
       "      <td>NaN</td>\n",
       "      <td>&lt;NA&gt;</td>\n",
       "      <td>&lt;NA&gt;</td>\n",
       "      <td>NaN</td>\n",
       "    </tr>\n",
       "    <tr>\n",
       "      <th>1</th>\n",
       "      <td>158</td>\n",
       "      <td>-1.0</td>\n",
       "      <td></td>\n",
       "      <td>NaN</td>\n",
       "      <td>159.0</td>\n",
       "      <td>587</td>\n",
       "      <td>&lt;NA&gt;</td>\n",
       "      <td>491.0</td>\n",
       "    </tr>\n",
       "    <tr>\n",
       "      <th>2</th>\n",
       "      <td>174</td>\n",
       "      <td>16.0</td>\n",
       "      <td></td>\n",
       "      <td>491.0</td>\n",
       "      <td>158.0</td>\n",
       "      <td>528</td>\n",
       "      <td>37</td>\n",
       "      <td>528.0</td>\n",
       "    </tr>\n",
       "    <tr>\n",
       "      <th>3</th>\n",
       "      <td>196</td>\n",
       "      <td>22.0</td>\n",
       "      <td></td>\n",
       "      <td>528.0</td>\n",
       "      <td>174.0</td>\n",
       "      <td>567</td>\n",
       "      <td>39</td>\n",
       "      <td>567.0</td>\n",
       "    </tr>\n",
       "    <tr>\n",
       "      <th>4</th>\n",
       "      <td>197</td>\n",
       "      <td>1.0</td>\n",
       "      <td></td>\n",
       "      <td>567.0</td>\n",
       "      <td>196.0</td>\n",
       "      <td>587</td>\n",
       "      <td>20</td>\n",
       "      <td>587.0</td>\n",
       "    </tr>\n",
       "    <tr>\n",
       "      <th>...</th>\n",
       "      <td>...</td>\n",
       "      <td>...</td>\n",
       "      <td>...</td>\n",
       "      <td>...</td>\n",
       "      <td>...</td>\n",
       "      <td>...</td>\n",
       "      <td>...</td>\n",
       "      <td>...</td>\n",
       "    </tr>\n",
       "    <tr>\n",
       "      <th>1995</th>\n",
       "      <td>8538</td>\n",
       "      <td>3.0</td>\n",
       "      <td></td>\n",
       "      <td>25591.0</td>\n",
       "      <td>8535.0</td>\n",
       "      <td>25616</td>\n",
       "      <td>25</td>\n",
       "      <td>25616.0</td>\n",
       "    </tr>\n",
       "    <tr>\n",
       "      <th>1996</th>\n",
       "      <td>8543</td>\n",
       "      <td>5.0</td>\n",
       "      <td></td>\n",
       "      <td>25616.0</td>\n",
       "      <td>8538.0</td>\n",
       "      <td>25626</td>\n",
       "      <td>10</td>\n",
       "      <td>25626.0</td>\n",
       "    </tr>\n",
       "    <tr>\n",
       "      <th>1997</th>\n",
       "      <td>8545</td>\n",
       "      <td>2.0</td>\n",
       "      <td></td>\n",
       "      <td>25626.0</td>\n",
       "      <td>8543.0</td>\n",
       "      <td>25645</td>\n",
       "      <td>19</td>\n",
       "      <td>25645.0</td>\n",
       "    </tr>\n",
       "    <tr>\n",
       "      <th>1998</th>\n",
       "      <td>8557</td>\n",
       "      <td>12.0</td>\n",
       "      <td></td>\n",
       "      <td>25645.0</td>\n",
       "      <td>8545.0</td>\n",
       "      <td>&lt;NA&gt;</td>\n",
       "      <td>&lt;NA&gt;</td>\n",
       "      <td>25670.0</td>\n",
       "    </tr>\n",
       "    <tr>\n",
       "      <th>1999</th>\n",
       "      <td>8568</td>\n",
       "      <td>11.0</td>\n",
       "      <td></td>\n",
       "      <td>25670.0</td>\n",
       "      <td>8557.0</td>\n",
       "      <td>&lt;NA&gt;</td>\n",
       "      <td>&lt;NA&gt;</td>\n",
       "      <td>NaN</td>\n",
       "    </tr>\n",
       "  </tbody>\n",
       "</table>\n",
       "<p>2000 rows × 8 columns</p>\n",
       "</div>"
      ],
      "text/plain": [
       "      Dybde  diff Rolling  rolling  shifted_dybde shifted sumdiff      sum\n",
       "0       159   NaN              NaN            NaN    <NA>    <NA>      NaN\n",
       "1       158  -1.0              NaN          159.0     587    <NA>    491.0\n",
       "2       174  16.0            491.0          158.0     528      37    528.0\n",
       "3       196  22.0            528.0          174.0     567      39    567.0\n",
       "4       197   1.0            567.0          196.0     587      20    587.0\n",
       "...     ...   ...     ...      ...            ...     ...     ...      ...\n",
       "1995   8538   3.0          25591.0         8535.0   25616      25  25616.0\n",
       "1996   8543   5.0          25616.0         8538.0   25626      10  25626.0\n",
       "1997   8545   2.0          25626.0         8543.0   25645      19  25645.0\n",
       "1998   8557  12.0          25645.0         8545.0    <NA>    <NA>  25670.0\n",
       "1999   8568  11.0          25670.0         8557.0    <NA>    <NA>      NaN\n",
       "\n",
       "[2000 rows x 8 columns]"
      ]
     },
     "execution_count": 171,
     "metadata": {},
     "output_type": "execute_result"
    }
   ],
   "source": [
    "input"
   ]
  },
  {
   "cell_type": "code",
   "execution_count": 125,
   "id": "f4cd48b2-142c-4fbf-bb9b-39bc13ba2f5a",
   "metadata": {},
   "outputs": [
    {
     "name": "stdout",
     "output_type": "stream",
     "text": [
      "6\n"
     ]
    }
   ],
   "source": []
  },
  {
   "cell_type": "code",
   "execution_count": null,
   "id": "1a91bc66-9965-41a2-8c96-0d9c16a51824",
   "metadata": {},
   "outputs": [],
   "source": []
  },
  {
   "cell_type": "code",
   "execution_count": 173,
   "id": "9bf80861-5aaa-4030-9031-260a2c913a37",
   "metadata": {},
   "outputs": [],
   "source": [
    "input['sumdiff'] = input['sum'] - input['sum'].shift(1)"
   ]
  },
  {
   "cell_type": "code",
   "execution_count": 174,
   "id": "560e94b7-ffc3-4cc1-8bad-1aaa6b5133f6",
   "metadata": {},
   "outputs": [
    {
     "data": {
      "text/plain": [
       "1627"
      ]
     },
     "execution_count": 174,
     "metadata": {},
     "output_type": "execute_result"
    }
   ],
   "source": [
    "len(input.query('sumdiff > 0'))"
   ]
  },
  {
   "cell_type": "code",
   "execution_count": 162,
   "id": "ad4fb6a0-9164-4352-9564-5839ad412aaf",
   "metadata": {},
   "outputs": [
    {
     "data": {
      "text/plain": [
       "0        <NA>\n",
       "1         491\n",
       "2         528\n",
       "3         567\n",
       "4         587\n",
       "        ...  \n",
       "1995    25616\n",
       "1996    25626\n",
       "1997    25645\n",
       "1998     <NA>\n",
       "1999     <NA>\n",
       "Name: shifted, Length: 2000, dtype: object"
      ]
     },
     "execution_count": 162,
     "metadata": {},
     "output_type": "execute_result"
    }
   ],
   "source": [
    "input.shifted"
   ]
  },
  {
   "cell_type": "code",
   "execution_count": 9,
   "id": "a0ffdc64-a2ed-442e-82b1-8ab2c4025603",
   "metadata": {},
   "outputs": [],
   "source": [
    "import pandas as pd\n",
    "input2 = pd.read_csv('day2input.txt', names = ['Position'])"
   ]
  },
  {
   "cell_type": "code",
   "execution_count": 10,
   "id": "8d2f6ead-e50d-4f1b-aea6-9d9d018e3c32",
   "metadata": {},
   "outputs": [
    {
     "data": {
      "text/html": [
       "<div>\n",
       "<style scoped>\n",
       "    .dataframe tbody tr th:only-of-type {\n",
       "        vertical-align: middle;\n",
       "    }\n",
       "\n",
       "    .dataframe tbody tr th {\n",
       "        vertical-align: top;\n",
       "    }\n",
       "\n",
       "    .dataframe thead th {\n",
       "        text-align: right;\n",
       "    }\n",
       "</style>\n",
       "<table border=\"1\" class=\"dataframe\">\n",
       "  <thead>\n",
       "    <tr style=\"text-align: right;\">\n",
       "      <th></th>\n",
       "      <th>Position</th>\n",
       "    </tr>\n",
       "  </thead>\n",
       "  <tbody>\n",
       "    <tr>\n",
       "      <th>0</th>\n",
       "      <td>forward 2</td>\n",
       "    </tr>\n",
       "    <tr>\n",
       "      <th>1</th>\n",
       "      <td>forward 3</td>\n",
       "    </tr>\n",
       "    <tr>\n",
       "      <th>2</th>\n",
       "      <td>forward 5</td>\n",
       "    </tr>\n",
       "    <tr>\n",
       "      <th>3</th>\n",
       "      <td>forward 6</td>\n",
       "    </tr>\n",
       "    <tr>\n",
       "      <th>4</th>\n",
       "      <td>down 7</td>\n",
       "    </tr>\n",
       "    <tr>\n",
       "      <th>...</th>\n",
       "      <td>...</td>\n",
       "    </tr>\n",
       "    <tr>\n",
       "      <th>995</th>\n",
       "      <td>up 5</td>\n",
       "    </tr>\n",
       "    <tr>\n",
       "      <th>996</th>\n",
       "      <td>forward 3</td>\n",
       "    </tr>\n",
       "    <tr>\n",
       "      <th>997</th>\n",
       "      <td>forward 2</td>\n",
       "    </tr>\n",
       "    <tr>\n",
       "      <th>998</th>\n",
       "      <td>down 3</td>\n",
       "    </tr>\n",
       "    <tr>\n",
       "      <th>999</th>\n",
       "      <td>forward 4</td>\n",
       "    </tr>\n",
       "  </tbody>\n",
       "</table>\n",
       "<p>1000 rows × 1 columns</p>\n",
       "</div>"
      ],
      "text/plain": [
       "      Position\n",
       "0    forward 2\n",
       "1    forward 3\n",
       "2    forward 5\n",
       "3    forward 6\n",
       "4       down 7\n",
       "..         ...\n",
       "995       up 5\n",
       "996  forward 3\n",
       "997  forward 2\n",
       "998     down 3\n",
       "999  forward 4\n",
       "\n",
       "[1000 rows x 1 columns]"
      ]
     },
     "execution_count": 10,
     "metadata": {},
     "output_type": "execute_result"
    }
   ],
   "source": [
    "input2"
   ]
  },
  {
   "cell_type": "code",
   "execution_count": 51,
   "id": "1b5670b4-7eb1-47ea-9807-1a366eaf98a7",
   "metadata": {},
   "outputs": [],
   "source": [
    "input2['nr'] = 0\n",
    "input2['nr'] = input2.Position.str.extract('(\\d+)')\n",
    "input2['nr'] = pd.to_numeric(input2['nr'])"
   ]
  },
  {
   "cell_type": "code",
   "execution_count": 94,
   "id": "8050b3c1-1db1-43f2-958c-900a379516a4",
   "metadata": {},
   "outputs": [],
   "source": [
    "#Test"
   ]
  },
  {
   "cell_type": "code",
   "execution_count": 52,
   "id": "113fb1e9-9b02-4800-94a4-4d1eb6189521",
   "metadata": {},
   "outputs": [],
   "source": [
    "input2['first'] = input2['Position'].astype(str).str[0]"
   ]
  },
  {
   "cell_type": "code",
   "execution_count": 56,
   "id": "c996fd6f-0c3d-471b-bc11-6259a5083ca3",
   "metadata": {},
   "outputs": [],
   "source": [
    "forwardpos = input2.loc[input2['first'] == 'f', 'nr'].sum()"
   ]
  },
  {
   "cell_type": "code",
   "execution_count": 57,
   "id": "847829fe-35b0-435b-8b15-48296d778f33",
   "metadata": {},
   "outputs": [],
   "source": [
    "downpos = input2.loc[input2['first'] == 'd', 'nr'].sum()"
   ]
  },
  {
   "cell_type": "code",
   "execution_count": 58,
   "id": "46f9fa38-801c-4acf-b846-8cb531834c2b",
   "metadata": {},
   "outputs": [],
   "source": [
    "uppos = input2.loc[input2['first'] == 'u', 'nr'].sum()"
   ]
  },
  {
   "cell_type": "code",
   "execution_count": 59,
   "id": "4d633c5a-3b9b-4563-97f2-801ea08ff32e",
   "metadata": {},
   "outputs": [],
   "source": [
    "sumdybde = downpos - uppos"
   ]
  },
  {
   "cell_type": "code",
   "execution_count": 60,
   "id": "fde3c53e-6878-4ab3-863b-707f15fe5184",
   "metadata": {},
   "outputs": [
    {
     "data": {
      "text/plain": [
       "879"
      ]
     },
     "execution_count": 60,
     "metadata": {},
     "output_type": "execute_result"
    }
   ],
   "source": [
    "sumdybde"
   ]
  },
  {
   "cell_type": "code",
   "execution_count": 61,
   "id": "8e0ee165-b28a-4a95-a451-63d0b7cba268",
   "metadata": {},
   "outputs": [
    {
     "data": {
      "text/plain": [
       "1925"
      ]
     },
     "execution_count": 61,
     "metadata": {},
     "output_type": "execute_result"
    }
   ],
   "source": [
    "forwardpos"
   ]
  },
  {
   "cell_type": "code",
   "execution_count": 62,
   "id": "387fc2e0-7e0b-47d4-83fa-47ecd985dfd0",
   "metadata": {},
   "outputs": [],
   "source": [
    "resultat = sumdybde * forwardpos"
   ]
  },
  {
   "cell_type": "code",
   "execution_count": 63,
   "id": "5a26d999-e638-4c10-93e7-1ba5671bad99",
   "metadata": {},
   "outputs": [
    {
     "data": {
      "text/plain": [
       "1692075"
      ]
     },
     "execution_count": 63,
     "metadata": {},
     "output_type": "execute_result"
    }
   ],
   "source": [
    "resultat"
   ]
  },
  {
   "cell_type": "code",
   "execution_count": 95,
   "id": "77d2ca48-e4ca-4869-bc86-76fa51ba1873",
   "metadata": {},
   "outputs": [],
   "source": [
    "#Day 2 part 2"
   ]
  },
  {
   "cell_type": "code",
   "execution_count": 110,
   "id": "67ee11a4-57a7-4a76-8b08-06532eb34b2a",
   "metadata": {},
   "outputs": [],
   "source": [
    "input2['ud'] = input2.loc[input2['first'] != 'f', 'nr']\n",
    "\n",
    "#if input2['first'] == 'd' or  input2['first'] == 'u':\n",
    " #   input2['aim'] = input2['nr']"
   ]
  },
  {
   "cell_type": "code",
   "execution_count": 133,
   "id": "be05ef64-9475-430b-b44e-3a8688362307",
   "metadata": {},
   "outputs": [],
   "source": [
    "input2['d'] = input2.loc[input2['first'] == 'd', 'nr']\n",
    "input2['u'] = input2.loc[input2['first'] == 'u', 'nr']\n",
    "input2['f'] = input2.loc[input2['first'] == 'f', 'nr']\n",
    "input2['u'] = input2['u']*-1\n",
    "\n",
    "input2['u'] = input2['u'].fillna(0)\n",
    "input2['d'] = input2['d'].fillna(0)\n",
    "input2['f'] = input2['f'].fillna(0)"
   ]
  },
  {
   "cell_type": "code",
   "execution_count": 135,
   "id": "5a45c1e3-f3da-46ee-b8c8-0f3d79a0e524",
   "metadata": {
    "tags": []
   },
   "outputs": [],
   "source": [
    "input2['aim'] = input2['u'] + input2['d']"
   ]
  },
  {
   "cell_type": "code",
   "execution_count": 136,
   "id": "d1ed0dfb-bfc5-4ef7-896e-8417bb6b60d2",
   "metadata": {},
   "outputs": [],
   "source": [
    "input2['aimsum'] = input2['aim'].cumsum()"
   ]
  },
  {
   "cell_type": "code",
   "execution_count": 137,
   "id": "d7f56010-fb32-40e5-9783-576b7af5a518",
   "metadata": {},
   "outputs": [
    {
     "data": {
      "text/html": [
       "<div>\n",
       "<style scoped>\n",
       "    .dataframe tbody tr th:only-of-type {\n",
       "        vertical-align: middle;\n",
       "    }\n",
       "\n",
       "    .dataframe tbody tr th {\n",
       "        vertical-align: top;\n",
       "    }\n",
       "\n",
       "    .dataframe thead th {\n",
       "        text-align: right;\n",
       "    }\n",
       "</style>\n",
       "<table border=\"1\" class=\"dataframe\">\n",
       "  <thead>\n",
       "    <tr style=\"text-align: right;\">\n",
       "      <th></th>\n",
       "      <th>Position</th>\n",
       "      <th>nr</th>\n",
       "      <th>first</th>\n",
       "      <th>aim</th>\n",
       "      <th>d</th>\n",
       "      <th>u</th>\n",
       "      <th>ud</th>\n",
       "      <th>aimsum</th>\n",
       "      <th>f</th>\n",
       "      <th>dybde</th>\n",
       "    </tr>\n",
       "  </thead>\n",
       "  <tbody>\n",
       "    <tr>\n",
       "      <th>0</th>\n",
       "      <td>forward 2</td>\n",
       "      <td>2</td>\n",
       "      <td>f</td>\n",
       "      <td>0.0</td>\n",
       "      <td>0.0</td>\n",
       "      <td>0.0</td>\n",
       "      <td>NaN</td>\n",
       "      <td>0.0</td>\n",
       "      <td>2.0</td>\n",
       "      <td>0.0</td>\n",
       "    </tr>\n",
       "    <tr>\n",
       "      <th>1</th>\n",
       "      <td>forward 3</td>\n",
       "      <td>3</td>\n",
       "      <td>f</td>\n",
       "      <td>0.0</td>\n",
       "      <td>0.0</td>\n",
       "      <td>0.0</td>\n",
       "      <td>NaN</td>\n",
       "      <td>0.0</td>\n",
       "      <td>3.0</td>\n",
       "      <td>0.0</td>\n",
       "    </tr>\n",
       "    <tr>\n",
       "      <th>2</th>\n",
       "      <td>forward 5</td>\n",
       "      <td>5</td>\n",
       "      <td>f</td>\n",
       "      <td>0.0</td>\n",
       "      <td>0.0</td>\n",
       "      <td>0.0</td>\n",
       "      <td>NaN</td>\n",
       "      <td>0.0</td>\n",
       "      <td>5.0</td>\n",
       "      <td>0.0</td>\n",
       "    </tr>\n",
       "    <tr>\n",
       "      <th>3</th>\n",
       "      <td>forward 6</td>\n",
       "      <td>6</td>\n",
       "      <td>f</td>\n",
       "      <td>0.0</td>\n",
       "      <td>0.0</td>\n",
       "      <td>0.0</td>\n",
       "      <td>NaN</td>\n",
       "      <td>0.0</td>\n",
       "      <td>6.0</td>\n",
       "      <td>0.0</td>\n",
       "    </tr>\n",
       "    <tr>\n",
       "      <th>4</th>\n",
       "      <td>down 7</td>\n",
       "      <td>7</td>\n",
       "      <td>d</td>\n",
       "      <td>7.0</td>\n",
       "      <td>7.0</td>\n",
       "      <td>0.0</td>\n",
       "      <td>7.0</td>\n",
       "      <td>7.0</td>\n",
       "      <td>0.0</td>\n",
       "      <td>0.0</td>\n",
       "    </tr>\n",
       "    <tr>\n",
       "      <th>5</th>\n",
       "      <td>forward 8</td>\n",
       "      <td>8</td>\n",
       "      <td>f</td>\n",
       "      <td>0.0</td>\n",
       "      <td>0.0</td>\n",
       "      <td>0.0</td>\n",
       "      <td>NaN</td>\n",
       "      <td>7.0</td>\n",
       "      <td>8.0</td>\n",
       "      <td>56.0</td>\n",
       "    </tr>\n",
       "    <tr>\n",
       "      <th>6</th>\n",
       "      <td>forward 4</td>\n",
       "      <td>4</td>\n",
       "      <td>f</td>\n",
       "      <td>0.0</td>\n",
       "      <td>0.0</td>\n",
       "      <td>0.0</td>\n",
       "      <td>NaN</td>\n",
       "      <td>7.0</td>\n",
       "      <td>4.0</td>\n",
       "      <td>28.0</td>\n",
       "    </tr>\n",
       "    <tr>\n",
       "      <th>7</th>\n",
       "      <td>forward 7</td>\n",
       "      <td>7</td>\n",
       "      <td>f</td>\n",
       "      <td>0.0</td>\n",
       "      <td>0.0</td>\n",
       "      <td>0.0</td>\n",
       "      <td>NaN</td>\n",
       "      <td>7.0</td>\n",
       "      <td>7.0</td>\n",
       "      <td>49.0</td>\n",
       "    </tr>\n",
       "    <tr>\n",
       "      <th>8</th>\n",
       "      <td>forward 5</td>\n",
       "      <td>5</td>\n",
       "      <td>f</td>\n",
       "      <td>0.0</td>\n",
       "      <td>0.0</td>\n",
       "      <td>0.0</td>\n",
       "      <td>NaN</td>\n",
       "      <td>7.0</td>\n",
       "      <td>5.0</td>\n",
       "      <td>35.0</td>\n",
       "    </tr>\n",
       "    <tr>\n",
       "      <th>9</th>\n",
       "      <td>forward 5</td>\n",
       "      <td>5</td>\n",
       "      <td>f</td>\n",
       "      <td>0.0</td>\n",
       "      <td>0.0</td>\n",
       "      <td>0.0</td>\n",
       "      <td>NaN</td>\n",
       "      <td>7.0</td>\n",
       "      <td>5.0</td>\n",
       "      <td>35.0</td>\n",
       "    </tr>\n",
       "    <tr>\n",
       "      <th>10</th>\n",
       "      <td>down 4</td>\n",
       "      <td>4</td>\n",
       "      <td>d</td>\n",
       "      <td>4.0</td>\n",
       "      <td>4.0</td>\n",
       "      <td>0.0</td>\n",
       "      <td>4.0</td>\n",
       "      <td>11.0</td>\n",
       "      <td>0.0</td>\n",
       "      <td>0.0</td>\n",
       "    </tr>\n",
       "    <tr>\n",
       "      <th>11</th>\n",
       "      <td>down 9</td>\n",
       "      <td>9</td>\n",
       "      <td>d</td>\n",
       "      <td>9.0</td>\n",
       "      <td>9.0</td>\n",
       "      <td>0.0</td>\n",
       "      <td>9.0</td>\n",
       "      <td>20.0</td>\n",
       "      <td>0.0</td>\n",
       "      <td>0.0</td>\n",
       "    </tr>\n",
       "    <tr>\n",
       "      <th>12</th>\n",
       "      <td>forward 8</td>\n",
       "      <td>8</td>\n",
       "      <td>f</td>\n",
       "      <td>0.0</td>\n",
       "      <td>0.0</td>\n",
       "      <td>0.0</td>\n",
       "      <td>NaN</td>\n",
       "      <td>20.0</td>\n",
       "      <td>8.0</td>\n",
       "      <td>160.0</td>\n",
       "    </tr>\n",
       "    <tr>\n",
       "      <th>13</th>\n",
       "      <td>forward 5</td>\n",
       "      <td>5</td>\n",
       "      <td>f</td>\n",
       "      <td>0.0</td>\n",
       "      <td>0.0</td>\n",
       "      <td>0.0</td>\n",
       "      <td>NaN</td>\n",
       "      <td>20.0</td>\n",
       "      <td>5.0</td>\n",
       "      <td>100.0</td>\n",
       "    </tr>\n",
       "    <tr>\n",
       "      <th>14</th>\n",
       "      <td>up 5</td>\n",
       "      <td>5</td>\n",
       "      <td>u</td>\n",
       "      <td>-5.0</td>\n",
       "      <td>0.0</td>\n",
       "      <td>-5.0</td>\n",
       "      <td>5.0</td>\n",
       "      <td>15.0</td>\n",
       "      <td>0.0</td>\n",
       "      <td>0.0</td>\n",
       "    </tr>\n",
       "  </tbody>\n",
       "</table>\n",
       "</div>"
      ],
      "text/plain": [
       "     Position  nr first  aim    d    u   ud  aimsum    f  dybde\n",
       "0   forward 2   2     f  0.0  0.0  0.0  NaN     0.0  2.0    0.0\n",
       "1   forward 3   3     f  0.0  0.0  0.0  NaN     0.0  3.0    0.0\n",
       "2   forward 5   5     f  0.0  0.0  0.0  NaN     0.0  5.0    0.0\n",
       "3   forward 6   6     f  0.0  0.0  0.0  NaN     0.0  6.0    0.0\n",
       "4      down 7   7     d  7.0  7.0  0.0  7.0     7.0  0.0    0.0\n",
       "5   forward 8   8     f  0.0  0.0  0.0  NaN     7.0  8.0   56.0\n",
       "6   forward 4   4     f  0.0  0.0  0.0  NaN     7.0  4.0   28.0\n",
       "7   forward 7   7     f  0.0  0.0  0.0  NaN     7.0  7.0   49.0\n",
       "8   forward 5   5     f  0.0  0.0  0.0  NaN     7.0  5.0   35.0\n",
       "9   forward 5   5     f  0.0  0.0  0.0  NaN     7.0  5.0   35.0\n",
       "10     down 4   4     d  4.0  4.0  0.0  4.0    11.0  0.0    0.0\n",
       "11     down 9   9     d  9.0  9.0  0.0  9.0    20.0  0.0    0.0\n",
       "12  forward 8   8     f  0.0  0.0  0.0  NaN    20.0  8.0  160.0\n",
       "13  forward 5   5     f  0.0  0.0  0.0  NaN    20.0  5.0  100.0\n",
       "14       up 5   5     u -5.0  0.0 -5.0  5.0    15.0  0.0    0.0"
      ]
     },
     "execution_count": 137,
     "metadata": {},
     "output_type": "execute_result"
    }
   ],
   "source": [
    "input2['dybde'] = input2['aimsum'] * input2['f']\n",
    "input2.head(15)"
   ]
  },
  {
   "cell_type": "code",
   "execution_count": 141,
   "id": "f9b8ffe7-5433-4294-a306-4b8f83c2b314",
   "metadata": {},
   "outputs": [],
   "source": [
    "dybde = input2['dybde'].sum()\n",
    "forward = input2['f'].sum()"
   ]
  },
  {
   "cell_type": "code",
   "execution_count": 144,
   "id": "66ceb198-3ff3-4134-8551-b92e4227d3ee",
   "metadata": {},
   "outputs": [
    {
     "name": "stdout",
     "output_type": "stream",
     "text": [
      "1749524700.0\n"
     ]
    }
   ],
   "source": [
    "resultat2 = dybde * forward\n",
    "print(resultat2)"
   ]
  },
  {
   "cell_type": "code",
   "execution_count": 1,
   "id": "2f00f77e-6849-48f4-a0c0-2c71a2717c75",
   "metadata": {},
   "outputs": [],
   "source": [
    "#Day 3"
   ]
  },
  {
   "cell_type": "code",
   "execution_count": null,
   "id": "01960416-20b5-47f8-a96d-23a1fbf00492",
   "metadata": {},
   "outputs": [],
   "source": []
  }
 ],
 "metadata": {
  "kernelspec": {
   "display_name": "Python 3 (ipykernel)",
   "language": "python",
   "name": "python3"
  },
  "language_info": {
   "codemirror_mode": {
    "name": "ipython",
    "version": 3
   },
   "file_extension": ".py",
   "mimetype": "text/x-python",
   "name": "python",
   "nbconvert_exporter": "python",
   "pygments_lexer": "ipython3",
   "version": "3.7.10"
  }
 },
 "nbformat": 4,
 "nbformat_minor": 5
}
